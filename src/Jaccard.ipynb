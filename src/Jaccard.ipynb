{
 "cells": [
  {
   "cell_type": "markdown",
   "id": "74fc0627-bc94-493d-9dc9-e7bb489987a4",
   "metadata": {},
   "source": [
    "# INIT"
   ]
  },
  {
   "cell_type": "code",
   "execution_count": 1,
   "id": "eb123a1e-cf03-4605-9825-e3b3b85881fe",
   "metadata": {},
   "outputs": [
    {
     "name": "stdout",
     "output_type": "stream",
     "text": [
      "Tue Jul  1 18:00:39 2025       \n",
      "+---------------------------------------------------------------------------------------+\n",
      "| NVIDIA-SMI 535.230.02             Driver Version: 535.230.02   CUDA Version: 12.2     |\n",
      "|-----------------------------------------+----------------------+----------------------+\n",
      "| GPU  Name                 Persistence-M | Bus-Id        Disp.A | Volatile Uncorr. ECC |\n",
      "| Fan  Temp   Perf          Pwr:Usage/Cap |         Memory-Usage | GPU-Util  Compute M. |\n",
      "|                                         |                      |               MIG M. |\n",
      "|=========================================+======================+======================|\n",
      "|   0  NVIDIA A100-SXM4-40GB          On  | 00000000:CA:00.0 Off |                    0 |\n",
      "| N/A   33C    P0              51W / 400W |      0MiB / 40960MiB |      0%      Default |\n",
      "|                                         |                      |             Disabled |\n",
      "+-----------------------------------------+----------------------+----------------------+\n",
      "                                                                                         \n",
      "+---------------------------------------------------------------------------------------+\n",
      "| Processes:                                                                            |\n",
      "|  GPU   GI   CI        PID   Type   Process name                            GPU Memory |\n",
      "|        ID   ID                                                             Usage      |\n",
      "|=======================================================================================|\n",
      "|  No running processes found                                                           |\n",
      "+---------------------------------------------------------------------------------------+\n"
     ]
    }
   ],
   "source": [
    "!nvidia-smi"
   ]
  },
  {
   "cell_type": "code",
   "execution_count": 4,
   "id": "a8f9b584-db72-4cac-8cec-bfc0ec13ad8c",
   "metadata": {},
   "outputs": [],
   "source": [
    "import pandas as pd\n",
    "import ast\n",
    "from collections import Counter\n",
    "import matplotlib.pyplot as plt\n",
    "import numpy as np"
   ]
  },
  {
   "cell_type": "code",
   "execution_count": 17,
   "id": "44deeebf-8afe-41e7-816e-e9e5cbede85a",
   "metadata": {},
   "outputs": [],
   "source": [
    "# DATASET_NAMES = [\"emotion\", \"math\", \"mmlu\", \"programming\"]\n",
    "# DATASET_PATH = \"emotion_processed.csv\"\n",
    "# df = load_dataset(DATASET_PATH)\n",
    "\n",
    "\n",
    "DATASET_NAMES = [\"emotion\", \"math\", \"mmlu\", \"programming\"]\n",
    "DATASET_PATHS = [f\"./datasets/{name}_processed.csv\" for name in DATASET_NAMES]\n",
    "\n",
    "# Load and concatenate all datasets\n",
    "df = pd.concat([pd.read_csv(path) for path in DATASET_PATHS], ignore_index=True)\n",
    "\n"
   ]
  },
  {
   "cell_type": "code",
   "execution_count": 18,
   "id": "11cba29f-bc4e-403a-a3b8-05872dd3e8d1",
   "metadata": {},
   "outputs": [],
   "source": [
    "# df.dropna(inplace=True)"
   ]
  },
  {
   "cell_type": "code",
   "execution_count": 19,
   "id": "e2b30370-d2ac-48cb-a5f4-b8c7447f56cd",
   "metadata": {},
   "outputs": [
    {
     "data": {
      "text/html": [
       "<div>\n",
       "<style scoped>\n",
       "    .dataframe tbody tr th:only-of-type {\n",
       "        vertical-align: middle;\n",
       "    }\n",
       "\n",
       "    .dataframe tbody tr th {\n",
       "        vertical-align: top;\n",
       "    }\n",
       "\n",
       "    .dataframe thead th {\n",
       "        text-align: right;\n",
       "    }\n",
       "</style>\n",
       "<table border=\"1\" class=\"dataframe\">\n",
       "  <thead>\n",
       "    <tr style=\"text-align: right;\">\n",
       "      <th></th>\n",
       "      <th>type</th>\n",
       "      <th>prompt</th>\n",
       "      <th>category</th>\n",
       "      <th>gemma-scope-2b-pt-res-canonical-layer_0/width_16k/canonical-top_mean_ids</th>\n",
       "      <th>gemma-scope-2b-pt-res-canonical-layer_0/width_16k/canonical-top_mean_vals</th>\n",
       "      <th>gemma-scope-2b-pt-res-canonical-layer_0/width_16k/canonical-token_feature_ids</th>\n",
       "      <th>gemma-scope-2b-pt-res-canonical-layer_1/width_16k/canonical-top_mean_ids</th>\n",
       "      <th>gemma-scope-2b-pt-res-canonical-layer_1/width_16k/canonical-top_mean_vals</th>\n",
       "      <th>gemma-scope-2b-pt-res-canonical-layer_1/width_16k/canonical-token_feature_ids</th>\n",
       "      <th>gemma-scope-2b-pt-res-canonical-layer_2/width_16k/canonical-top_mean_ids</th>\n",
       "      <th>...</th>\n",
       "      <th>gemma-scope-2b-pt-res-canonical-layer22-top_mean_ids</th>\n",
       "      <th>gemma-scope-2b-pt-res-canonical-layer22-top_mean_vals</th>\n",
       "      <th>gemma-scope-2b-pt-res-canonical-layer23-top_mean_ids</th>\n",
       "      <th>gemma-scope-2b-pt-res-canonical-layer23-top_mean_vals</th>\n",
       "      <th>gemma-scope-2b-pt-res-canonical-layer24-top_mean_ids</th>\n",
       "      <th>gemma-scope-2b-pt-res-canonical-layer24-top_mean_vals</th>\n",
       "      <th>gemma-scope-2b-pt-res-canonical-layer25-top_mean_ids</th>\n",
       "      <th>gemma-scope-2b-pt-res-canonical-layer25-top_mean_vals</th>\n",
       "      <th>gemma-scope-2b-pt-mlp-canonical-layer0-top_mean_ids</th>\n",
       "      <th>gemma-scope-2b-pt-mlp-canonical-layer0-top_mean_vals</th>\n",
       "    </tr>\n",
       "  </thead>\n",
       "  <tbody>\n",
       "    <tr>\n",
       "      <th>0</th>\n",
       "      <td>empathetic_dialogue</td>\n",
       "      <td>When I was a child I was in a tornado.</td>\n",
       "      <td>afraid</td>\n",
       "      <td>[[8920, 12838, 12950, 275, 15454, 10006, 1381,...</td>\n",
       "      <td>[[296.67, 121.99, 110.25, 41.58, 32.32, 27.85,...</td>\n",
       "      <td>[8920, 12838, 12950, 4194, 3706, 2296, 9570, 1...</td>\n",
       "      <td>[[9770, 5146, 12054, 740, 13412, 10589, 12539,...</td>\n",
       "      <td>[[371.29, 249.65, 216.23, 81.72, 76.63, 69.86,...</td>\n",
       "      <td>[9770, 5146, 12054, 11522, 7322, 12054, 6999, ...</td>\n",
       "      <td>[[15089, 14059, 7132, 7361, 4885, 13977, 11527...</td>\n",
       "      <td>...</td>\n",
       "      <td>NaN</td>\n",
       "      <td>NaN</td>\n",
       "      <td>NaN</td>\n",
       "      <td>NaN</td>\n",
       "      <td>NaN</td>\n",
       "      <td>NaN</td>\n",
       "      <td>NaN</td>\n",
       "      <td>NaN</td>\n",
       "      <td>NaN</td>\n",
       "      <td>NaN</td>\n",
       "    </tr>\n",
       "    <tr>\n",
       "      <th>1</th>\n",
       "      <td>empathetic_dialogue</td>\n",
       "      <td>One time i heard someone outside my window.</td>\n",
       "      <td>afraid</td>\n",
       "      <td>[[8920, 12838, 12950, 275, 15454, 10006, 1381,...</td>\n",
       "      <td>[[296.67, 121.99, 110.25, 41.58, 32.32, 27.85,...</td>\n",
       "      <td>[8920, 12838, 12950, 9869, 2082, 2366, 15045, ...</td>\n",
       "      <td>[[9770, 5146, 12054, 740, 13412, 10589, 12539,...</td>\n",
       "      <td>[[371.29, 249.65, 216.23, 81.72, 76.63, 69.86,...</td>\n",
       "      <td>[9770, 5146, 12054, 5343, 11492, 6631, 15045, ...</td>\n",
       "      <td>[[15089, 14059, 7132, 7361, 4885, 13977, 11527...</td>\n",
       "      <td>...</td>\n",
       "      <td>NaN</td>\n",
       "      <td>NaN</td>\n",
       "      <td>NaN</td>\n",
       "      <td>NaN</td>\n",
       "      <td>NaN</td>\n",
       "      <td>NaN</td>\n",
       "      <td>NaN</td>\n",
       "      <td>NaN</td>\n",
       "      <td>NaN</td>\n",
       "      <td>NaN</td>\n",
       "    </tr>\n",
       "    <tr>\n",
       "      <th>2</th>\n",
       "      <td>empathetic_dialogue</td>\n",
       "      <td>I keep hearing things in my kitchen. I think t...</td>\n",
       "      <td>afraid</td>\n",
       "      <td>[[8920, 12838, 12950, 275, 15454, 10006, 1381,...</td>\n",
       "      <td>[[296.67, 121.99, 110.25, 41.58, 32.32, 27.85,...</td>\n",
       "      <td>[8920, 12838, 12950, 9528, 12207, 8920, 9286, ...</td>\n",
       "      <td>[[9770, 5146, 12054, 740, 13412, 10589, 12539,...</td>\n",
       "      <td>[[371.29, 249.65, 216.23, 81.72, 76.63, 69.86,...</td>\n",
       "      <td>[9770, 5146, 12054, 7318, 12054, 592, 4581, 53...</td>\n",
       "      <td>[[15089, 14059, 7132, 7361, 4885, 13977, 11527...</td>\n",
       "      <td>...</td>\n",
       "      <td>NaN</td>\n",
       "      <td>NaN</td>\n",
       "      <td>NaN</td>\n",
       "      <td>NaN</td>\n",
       "      <td>NaN</td>\n",
       "      <td>NaN</td>\n",
       "      <td>NaN</td>\n",
       "      <td>NaN</td>\n",
       "      <td>NaN</td>\n",
       "      <td>NaN</td>\n",
       "    </tr>\n",
       "    <tr>\n",
       "      <th>3</th>\n",
       "      <td>empathetic_dialogue</td>\n",
       "      <td>I am cooking dinner for my boyfriend tomorrow ...</td>\n",
       "      <td>afraid</td>\n",
       "      <td>[[8920, 12838, 12950, 275, 15454, 10006, 1381,...</td>\n",
       "      <td>[[296.67, 121.99, 110.25, 41.58, 32.32, 27.85,...</td>\n",
       "      <td>[8920, 12838, 12950, 9528, 12207, 8920, 2221, ...</td>\n",
       "      <td>[[9770, 5146, 12054, 740, 13412, 10589, 12539,...</td>\n",
       "      <td>[[371.29, 249.65, 216.23, 81.72, 76.63, 69.86,...</td>\n",
       "      <td>[9770, 5146, 12054, 7318, 12054, 592, 2653, 44...</td>\n",
       "      <td>[[15089, 14059, 7132, 7361, 4885, 13977, 11527...</td>\n",
       "      <td>...</td>\n",
       "      <td>NaN</td>\n",
       "      <td>NaN</td>\n",
       "      <td>NaN</td>\n",
       "      <td>NaN</td>\n",
       "      <td>NaN</td>\n",
       "      <td>NaN</td>\n",
       "      <td>NaN</td>\n",
       "      <td>NaN</td>\n",
       "      <td>NaN</td>\n",
       "      <td>NaN</td>\n",
       "    </tr>\n",
       "    <tr>\n",
       "      <th>4</th>\n",
       "      <td>empathetic_dialogue</td>\n",
       "      <td>of dying</td>\n",
       "      <td>afraid</td>\n",
       "      <td>[[8920, 12838, 12950, 275, 15454, 10006, 1381,...</td>\n",
       "      <td>[[296.67, 121.99, 110.25, 41.58, 32.32, 27.85,...</td>\n",
       "      <td>[8920, 12838, 12950, 4725, 14733, 8920, 8920, ...</td>\n",
       "      <td>[[9770, 5146, 12054, 740, 13412, 10589, 12539,...</td>\n",
       "      <td>[[371.29, 249.65, 216.23, 81.72, 76.63, 69.86,...</td>\n",
       "      <td>[9770, 5146, 12054, 2915, 1892, 14600, 12054, ...</td>\n",
       "      <td>[[15089, 14059, 7132, 7361, 4885, 13977, 11527...</td>\n",
       "      <td>...</td>\n",
       "      <td>NaN</td>\n",
       "      <td>NaN</td>\n",
       "      <td>NaN</td>\n",
       "      <td>NaN</td>\n",
       "      <td>NaN</td>\n",
       "      <td>NaN</td>\n",
       "      <td>NaN</td>\n",
       "      <td>NaN</td>\n",
       "      <td>NaN</td>\n",
       "      <td>NaN</td>\n",
       "    </tr>\n",
       "  </tbody>\n",
       "</table>\n",
       "<p>5 rows × 291 columns</p>\n",
       "</div>"
      ],
      "text/plain": [
       "                  type                                             prompt  \\\n",
       "0  empathetic_dialogue             When I was a child I was in a tornado.   \n",
       "1  empathetic_dialogue       One time i heard someone outside my window.    \n",
       "2  empathetic_dialogue  I keep hearing things in my kitchen. I think t...   \n",
       "3  empathetic_dialogue  I am cooking dinner for my boyfriend tomorrow ...   \n",
       "4  empathetic_dialogue                                          of dying    \n",
       "\n",
       "  category  \\\n",
       "0   afraid   \n",
       "1   afraid   \n",
       "2   afraid   \n",
       "3   afraid   \n",
       "4   afraid   \n",
       "\n",
       "  gemma-scope-2b-pt-res-canonical-layer_0/width_16k/canonical-top_mean_ids  \\\n",
       "0  [[8920, 12838, 12950, 275, 15454, 10006, 1381,...                         \n",
       "1  [[8920, 12838, 12950, 275, 15454, 10006, 1381,...                         \n",
       "2  [[8920, 12838, 12950, 275, 15454, 10006, 1381,...                         \n",
       "3  [[8920, 12838, 12950, 275, 15454, 10006, 1381,...                         \n",
       "4  [[8920, 12838, 12950, 275, 15454, 10006, 1381,...                         \n",
       "\n",
       "  gemma-scope-2b-pt-res-canonical-layer_0/width_16k/canonical-top_mean_vals  \\\n",
       "0  [[296.67, 121.99, 110.25, 41.58, 32.32, 27.85,...                          \n",
       "1  [[296.67, 121.99, 110.25, 41.58, 32.32, 27.85,...                          \n",
       "2  [[296.67, 121.99, 110.25, 41.58, 32.32, 27.85,...                          \n",
       "3  [[296.67, 121.99, 110.25, 41.58, 32.32, 27.85,...                          \n",
       "4  [[296.67, 121.99, 110.25, 41.58, 32.32, 27.85,...                          \n",
       "\n",
       "  gemma-scope-2b-pt-res-canonical-layer_0/width_16k/canonical-token_feature_ids  \\\n",
       "0  [8920, 12838, 12950, 4194, 3706, 2296, 9570, 1...                              \n",
       "1  [8920, 12838, 12950, 9869, 2082, 2366, 15045, ...                              \n",
       "2  [8920, 12838, 12950, 9528, 12207, 8920, 9286, ...                              \n",
       "3  [8920, 12838, 12950, 9528, 12207, 8920, 2221, ...                              \n",
       "4  [8920, 12838, 12950, 4725, 14733, 8920, 8920, ...                              \n",
       "\n",
       "  gemma-scope-2b-pt-res-canonical-layer_1/width_16k/canonical-top_mean_ids  \\\n",
       "0  [[9770, 5146, 12054, 740, 13412, 10589, 12539,...                         \n",
       "1  [[9770, 5146, 12054, 740, 13412, 10589, 12539,...                         \n",
       "2  [[9770, 5146, 12054, 740, 13412, 10589, 12539,...                         \n",
       "3  [[9770, 5146, 12054, 740, 13412, 10589, 12539,...                         \n",
       "4  [[9770, 5146, 12054, 740, 13412, 10589, 12539,...                         \n",
       "\n",
       "  gemma-scope-2b-pt-res-canonical-layer_1/width_16k/canonical-top_mean_vals  \\\n",
       "0  [[371.29, 249.65, 216.23, 81.72, 76.63, 69.86,...                          \n",
       "1  [[371.29, 249.65, 216.23, 81.72, 76.63, 69.86,...                          \n",
       "2  [[371.29, 249.65, 216.23, 81.72, 76.63, 69.86,...                          \n",
       "3  [[371.29, 249.65, 216.23, 81.72, 76.63, 69.86,...                          \n",
       "4  [[371.29, 249.65, 216.23, 81.72, 76.63, 69.86,...                          \n",
       "\n",
       "  gemma-scope-2b-pt-res-canonical-layer_1/width_16k/canonical-token_feature_ids  \\\n",
       "0  [9770, 5146, 12054, 11522, 7322, 12054, 6999, ...                              \n",
       "1  [9770, 5146, 12054, 5343, 11492, 6631, 15045, ...                              \n",
       "2  [9770, 5146, 12054, 7318, 12054, 592, 4581, 53...                              \n",
       "3  [9770, 5146, 12054, 7318, 12054, 592, 2653, 44...                              \n",
       "4  [9770, 5146, 12054, 2915, 1892, 14600, 12054, ...                              \n",
       "\n",
       "  gemma-scope-2b-pt-res-canonical-layer_2/width_16k/canonical-top_mean_ids  \\\n",
       "0  [[15089, 14059, 7132, 7361, 4885, 13977, 11527...                         \n",
       "1  [[15089, 14059, 7132, 7361, 4885, 13977, 11527...                         \n",
       "2  [[15089, 14059, 7132, 7361, 4885, 13977, 11527...                         \n",
       "3  [[15089, 14059, 7132, 7361, 4885, 13977, 11527...                         \n",
       "4  [[15089, 14059, 7132, 7361, 4885, 13977, 11527...                         \n",
       "\n",
       "   ... gemma-scope-2b-pt-res-canonical-layer22-top_mean_ids  \\\n",
       "0  ...                                                NaN     \n",
       "1  ...                                                NaN     \n",
       "2  ...                                                NaN     \n",
       "3  ...                                                NaN     \n",
       "4  ...                                                NaN     \n",
       "\n",
       "  gemma-scope-2b-pt-res-canonical-layer22-top_mean_vals  \\\n",
       "0                                                NaN      \n",
       "1                                                NaN      \n",
       "2                                                NaN      \n",
       "3                                                NaN      \n",
       "4                                                NaN      \n",
       "\n",
       "  gemma-scope-2b-pt-res-canonical-layer23-top_mean_ids  \\\n",
       "0                                                NaN     \n",
       "1                                                NaN     \n",
       "2                                                NaN     \n",
       "3                                                NaN     \n",
       "4                                                NaN     \n",
       "\n",
       "  gemma-scope-2b-pt-res-canonical-layer23-top_mean_vals  \\\n",
       "0                                                NaN      \n",
       "1                                                NaN      \n",
       "2                                                NaN      \n",
       "3                                                NaN      \n",
       "4                                                NaN      \n",
       "\n",
       "  gemma-scope-2b-pt-res-canonical-layer24-top_mean_ids  \\\n",
       "0                                                NaN     \n",
       "1                                                NaN     \n",
       "2                                                NaN     \n",
       "3                                                NaN     \n",
       "4                                                NaN     \n",
       "\n",
       "  gemma-scope-2b-pt-res-canonical-layer24-top_mean_vals  \\\n",
       "0                                                NaN      \n",
       "1                                                NaN      \n",
       "2                                                NaN      \n",
       "3                                                NaN      \n",
       "4                                                NaN      \n",
       "\n",
       "  gemma-scope-2b-pt-res-canonical-layer25-top_mean_ids  \\\n",
       "0                                                NaN     \n",
       "1                                                NaN     \n",
       "2                                                NaN     \n",
       "3                                                NaN     \n",
       "4                                                NaN     \n",
       "\n",
       "  gemma-scope-2b-pt-res-canonical-layer25-top_mean_vals  \\\n",
       "0                                                NaN      \n",
       "1                                                NaN      \n",
       "2                                                NaN      \n",
       "3                                                NaN      \n",
       "4                                                NaN      \n",
       "\n",
       "  gemma-scope-2b-pt-mlp-canonical-layer0-top_mean_ids  \\\n",
       "0                                                NaN    \n",
       "1                                                NaN    \n",
       "2                                                NaN    \n",
       "3                                                NaN    \n",
       "4                                                NaN    \n",
       "\n",
       "  gemma-scope-2b-pt-mlp-canonical-layer0-top_mean_vals  \n",
       "0                                                NaN    \n",
       "1                                                NaN    \n",
       "2                                                NaN    \n",
       "3                                                NaN    \n",
       "4                                                NaN    \n",
       "\n",
       "[5 rows x 291 columns]"
      ]
     },
     "execution_count": 19,
     "metadata": {},
     "output_type": "execute_result"
    }
   ],
   "source": [
    "df.head()"
   ]
  },
  {
   "cell_type": "markdown",
   "id": "8d064aba-5de6-4e37-8564-ebe8ce73cc2a",
   "metadata": {},
   "source": [
    "# Jaccard similarity "
   ]
  },
  {
   "cell_type": "code",
   "execution_count": 9,
   "id": "aa48fbf9-1b2e-4715-bc28-87df654a3a9f",
   "metadata": {},
   "outputs": [],
   "source": [
    "TYPE_SAE = [\"mlp\", \"att\", \"res\"]\n",
    "LAYER_NUM = [str(i) for i in range(26)]\n",
    "TYPE_NAMES = ['empathetic_dialogue', 'math', 'mmlu', 'programming']\n",
    "# col = f'gemma-scope-2b-pt-{TYPE_SAE}-canonical-layer_{LAYER_NUM}/width_16k/canonical-token_feature_ids'"
   ]
  },
  {
   "cell_type": "code",
   "execution_count": 10,
   "id": "a90450a2-3b85-4fc7-bf17-b592a50cd565",
   "metadata": {},
   "outputs": [],
   "source": [
    "# for the layer 0, get the jaccard similarity from within class, outer class \n",
    "import pandas as pd\n",
    "import ast\n",
    "from sklearn.metrics import jaccard_score\n",
    "from sklearn.preprocessing import MultiLabelBinarizer\n",
    "import os\n",
    "import ast\n",
    "import numpy as np\n",
    "import pandas as pd\n",
    "import seaborn as sns\n",
    "import matplotlib.pyplot as plt\n",
    "from sklearn.preprocessing import MultiLabelBinarizer\n",
    "from sklearn.metrics import pairwise_distances\n",
    "\n"
   ]
  },
  {
   "cell_type": "code",
   "execution_count": 20,
   "id": "db0abec5-557f-47a2-881a-bf935c1c839a",
   "metadata": {},
   "outputs": [],
   "source": [
    "# --- VISUALIZATION FUNCTION ---\n",
    "def save_layer_graph(sim_table, type_sae, layer_num):\n",
    "    # Ensure your figures folder exists\n",
    "    os.makedirs(\"figures\", exist_ok=True)\n",
    "    \n",
    "    # Create the clustermap\n",
    "    g = sns.clustermap(\n",
    "        sim_table,\n",
    "        cmap=\"viridis\",\n",
    "        annot=True,\n",
    "        fmt=\".2f\",\n",
    "        linewidths=0.5,\n",
    "        figsize=(8, 8)\n",
    "    )\n",
    "    \n",
    "    # Set the title\n",
    "    g.fig.suptitle(\n",
    "        f\"Clustermap of Avg. Jaccard Similarities - {type_sae} - {layer_num}\",\n",
    "        y=1.02, # Adjust title position\n",
    "        fontsize=14\n",
    "    )\n",
    "    \n",
    "    # Save the figure\n",
    "    output_path = os.path.join(\"figures\", f\"clustermap_{type_sae}_layer{layer_num}.png\")\n",
    "    g.fig.savefig(output_path, bbox_inches=\"tight\", dpi=300)\n",
    "    \n",
    "    # Display the plot\n",
    "    plt.show()\n",
    "    print(f\"Saved clustermap to {output_path}\")\n"
   ]
  },
  {
   "cell_type": "code",
   "execution_count": 22,
   "id": "1805fb9d-84c1-449a-b96b-0ce72d5d66ea",
   "metadata": {},
   "outputs": [
    {
     "name": "stdout",
     "output_type": "stream",
     "text": [
      "[res] preparing data…\n",
      "[res] computing Jaccard…\n",
      "4992 4992\n"
     ]
    },
    {
     "name": "stderr",
     "output_type": "stream",
     "text": [
      "/cephfs/volumes/hpc_data_prj/inf_narrative_msc/e8efa787-4d41-448d-a7aa-814b8f0fac1e/k24086575/jvenv/lib/python3.11/site-packages/sklearn/metrics/pairwise.py:2466: DataConversionWarning: Data was converted to boolean for metric jaccard\n",
      "  warnings.warn(msg, DataConversionWarning)\n"
     ]
    },
    {
     "name": "stdout",
     "output_type": "stream",
     "text": [
      "  empathetic_dialogue vs empathetic_dialogue: 0.1104\n",
      "4992 4998\n"
     ]
    },
    {
     "name": "stderr",
     "output_type": "stream",
     "text": [
      "/cephfs/volumes/hpc_data_prj/inf_narrative_msc/e8efa787-4d41-448d-a7aa-814b8f0fac1e/k24086575/jvenv/lib/python3.11/site-packages/sklearn/metrics/pairwise.py:2466: DataConversionWarning: Data was converted to boolean for metric jaccard\n",
      "  warnings.warn(msg, DataConversionWarning)\n"
     ]
    },
    {
     "name": "stdout",
     "output_type": "stream",
     "text": [
      "  empathetic_dialogue vs math: 0.0487\n",
      "4992 4984\n"
     ]
    },
    {
     "name": "stderr",
     "output_type": "stream",
     "text": [
      "/cephfs/volumes/hpc_data_prj/inf_narrative_msc/e8efa787-4d41-448d-a7aa-814b8f0fac1e/k24086575/jvenv/lib/python3.11/site-packages/sklearn/metrics/pairwise.py:2466: DataConversionWarning: Data was converted to boolean for metric jaccard\n",
      "  warnings.warn(msg, DataConversionWarning)\n"
     ]
    },
    {
     "name": "stdout",
     "output_type": "stream",
     "text": [
      "  empathetic_dialogue vs mmlu: 0.0578\n",
      "4992 5000\n"
     ]
    },
    {
     "name": "stderr",
     "output_type": "stream",
     "text": [
      "/cephfs/volumes/hpc_data_prj/inf_narrative_msc/e8efa787-4d41-448d-a7aa-814b8f0fac1e/k24086575/jvenv/lib/python3.11/site-packages/sklearn/metrics/pairwise.py:2466: DataConversionWarning: Data was converted to boolean for metric jaccard\n",
      "  warnings.warn(msg, DataConversionWarning)\n"
     ]
    },
    {
     "name": "stdout",
     "output_type": "stream",
     "text": [
      "  empathetic_dialogue vs programming: 0.0337\n",
      "4998 4992\n"
     ]
    },
    {
     "name": "stderr",
     "output_type": "stream",
     "text": [
      "/cephfs/volumes/hpc_data_prj/inf_narrative_msc/e8efa787-4d41-448d-a7aa-814b8f0fac1e/k24086575/jvenv/lib/python3.11/site-packages/sklearn/metrics/pairwise.py:2466: DataConversionWarning: Data was converted to boolean for metric jaccard\n",
      "  warnings.warn(msg, DataConversionWarning)\n"
     ]
    },
    {
     "name": "stdout",
     "output_type": "stream",
     "text": [
      "  math vs empathetic_dialogue: 0.0487\n",
      "4998 4998\n"
     ]
    },
    {
     "name": "stderr",
     "output_type": "stream",
     "text": [
      "/cephfs/volumes/hpc_data_prj/inf_narrative_msc/e8efa787-4d41-448d-a7aa-814b8f0fac1e/k24086575/jvenv/lib/python3.11/site-packages/sklearn/metrics/pairwise.py:2466: DataConversionWarning: Data was converted to boolean for metric jaccard\n",
      "  warnings.warn(msg, DataConversionWarning)\n"
     ]
    },
    {
     "name": "stdout",
     "output_type": "stream",
     "text": [
      "  math vs math: 0.1152\n",
      "4998 4984\n"
     ]
    },
    {
     "name": "stderr",
     "output_type": "stream",
     "text": [
      "/cephfs/volumes/hpc_data_prj/inf_narrative_msc/e8efa787-4d41-448d-a7aa-814b8f0fac1e/k24086575/jvenv/lib/python3.11/site-packages/sklearn/metrics/pairwise.py:2466: DataConversionWarning: Data was converted to boolean for metric jaccard\n",
      "  warnings.warn(msg, DataConversionWarning)\n"
     ]
    },
    {
     "name": "stdout",
     "output_type": "stream",
     "text": [
      "  math vs mmlu: 0.0670\n",
      "4998 5000\n"
     ]
    },
    {
     "name": "stderr",
     "output_type": "stream",
     "text": [
      "/cephfs/volumes/hpc_data_prj/inf_narrative_msc/e8efa787-4d41-448d-a7aa-814b8f0fac1e/k24086575/jvenv/lib/python3.11/site-packages/sklearn/metrics/pairwise.py:2466: DataConversionWarning: Data was converted to boolean for metric jaccard\n",
      "  warnings.warn(msg, DataConversionWarning)\n"
     ]
    },
    {
     "name": "stdout",
     "output_type": "stream",
     "text": [
      "  math vs programming: 0.0683\n",
      "4984 4992\n"
     ]
    },
    {
     "name": "stderr",
     "output_type": "stream",
     "text": [
      "/cephfs/volumes/hpc_data_prj/inf_narrative_msc/e8efa787-4d41-448d-a7aa-814b8f0fac1e/k24086575/jvenv/lib/python3.11/site-packages/sklearn/metrics/pairwise.py:2466: DataConversionWarning: Data was converted to boolean for metric jaccard\n",
      "  warnings.warn(msg, DataConversionWarning)\n"
     ]
    },
    {
     "name": "stdout",
     "output_type": "stream",
     "text": [
      "  mmlu vs empathetic_dialogue: 0.0578\n",
      "4984 4998\n"
     ]
    },
    {
     "name": "stderr",
     "output_type": "stream",
     "text": [
      "/cephfs/volumes/hpc_data_prj/inf_narrative_msc/e8efa787-4d41-448d-a7aa-814b8f0fac1e/k24086575/jvenv/lib/python3.11/site-packages/sklearn/metrics/pairwise.py:2466: DataConversionWarning: Data was converted to boolean for metric jaccard\n",
      "  warnings.warn(msg, DataConversionWarning)\n"
     ]
    },
    {
     "name": "stdout",
     "output_type": "stream",
     "text": [
      "  mmlu vs math: 0.0670\n",
      "4984 4984\n"
     ]
    },
    {
     "name": "stderr",
     "output_type": "stream",
     "text": [
      "/cephfs/volumes/hpc_data_prj/inf_narrative_msc/e8efa787-4d41-448d-a7aa-814b8f0fac1e/k24086575/jvenv/lib/python3.11/site-packages/sklearn/metrics/pairwise.py:2466: DataConversionWarning: Data was converted to boolean for metric jaccard\n",
      "  warnings.warn(msg, DataConversionWarning)\n"
     ]
    },
    {
     "name": "stdout",
     "output_type": "stream",
     "text": [
      "  mmlu vs mmlu: 0.0815\n",
      "4984 5000\n"
     ]
    },
    {
     "name": "stderr",
     "output_type": "stream",
     "text": [
      "/cephfs/volumes/hpc_data_prj/inf_narrative_msc/e8efa787-4d41-448d-a7aa-814b8f0fac1e/k24086575/jvenv/lib/python3.11/site-packages/sklearn/metrics/pairwise.py:2466: DataConversionWarning: Data was converted to boolean for metric jaccard\n",
      "  warnings.warn(msg, DataConversionWarning)\n"
     ]
    },
    {
     "name": "stdout",
     "output_type": "stream",
     "text": [
      "  mmlu vs programming: 0.0501\n",
      "5000 4992\n"
     ]
    },
    {
     "name": "stderr",
     "output_type": "stream",
     "text": [
      "/cephfs/volumes/hpc_data_prj/inf_narrative_msc/e8efa787-4d41-448d-a7aa-814b8f0fac1e/k24086575/jvenv/lib/python3.11/site-packages/sklearn/metrics/pairwise.py:2466: DataConversionWarning: Data was converted to boolean for metric jaccard\n",
      "  warnings.warn(msg, DataConversionWarning)\n"
     ]
    },
    {
     "name": "stdout",
     "output_type": "stream",
     "text": [
      "  programming vs empathetic_dialogue: 0.0337\n",
      "5000 4998\n"
     ]
    },
    {
     "name": "stderr",
     "output_type": "stream",
     "text": [
      "/cephfs/volumes/hpc_data_prj/inf_narrative_msc/e8efa787-4d41-448d-a7aa-814b8f0fac1e/k24086575/jvenv/lib/python3.11/site-packages/sklearn/metrics/pairwise.py:2466: DataConversionWarning: Data was converted to boolean for metric jaccard\n",
      "  warnings.warn(msg, DataConversionWarning)\n"
     ]
    },
    {
     "name": "stdout",
     "output_type": "stream",
     "text": [
      "  programming vs math: 0.0683\n",
      "5000 4984\n"
     ]
    },
    {
     "name": "stderr",
     "output_type": "stream",
     "text": [
      "/cephfs/volumes/hpc_data_prj/inf_narrative_msc/e8efa787-4d41-448d-a7aa-814b8f0fac1e/k24086575/jvenv/lib/python3.11/site-packages/sklearn/metrics/pairwise.py:2466: DataConversionWarning: Data was converted to boolean for metric jaccard\n",
      "  warnings.warn(msg, DataConversionWarning)\n"
     ]
    },
    {
     "name": "stdout",
     "output_type": "stream",
     "text": [
      "  programming vs mmlu: 0.0501\n",
      "5000 5000\n"
     ]
    },
    {
     "name": "stderr",
     "output_type": "stream",
     "text": [
      "/cephfs/volumes/hpc_data_prj/inf_narrative_msc/e8efa787-4d41-448d-a7aa-814b8f0fac1e/k24086575/jvenv/lib/python3.11/site-packages/sklearn/metrics/pairwise.py:2466: DataConversionWarning: Data was converted to boolean for metric jaccard\n",
      "  warnings.warn(msg, DataConversionWarning)\n"
     ]
    },
    {
     "name": "stdout",
     "output_type": "stream",
     "text": [
      "  programming vs programming: 0.2204\n"
     ]
    },
    {
     "data": {
      "image/png": "[encoded data removed]",
      "text/plain": [
       "<Figure size 800x800 with 4 Axes>"
      ]
     },
     "metadata": {},
     "output_type": "display_data"
    },
    {
     "name": "stdout",
     "output_type": "stream",
     "text": [
      "Saved clustermap to figures/clustermap_res_layer0.png\n",
      "[att] preparing data…\n",
      "[att] computing Jaccard…\n",
      "4992 4992\n"
     ]
    },
    {
     "name": "stderr",
     "output_type": "stream",
     "text": [
      "/cephfs/volumes/hpc_data_prj/inf_narrative_msc/e8efa787-4d41-448d-a7aa-814b8f0fac1e/k24086575/jvenv/lib/python3.11/site-packages/sklearn/metrics/pairwise.py:2466: DataConversionWarning: Data was converted to boolean for metric jaccard\n",
      "  warnings.warn(msg, DataConversionWarning)\n"
     ]
    },
    {
     "name": "stdout",
     "output_type": "stream",
     "text": [
      "  empathetic_dialogue vs empathetic_dialogue: 0.1991\n",
      "4992 4998\n"
     ]
    },
    {
     "name": "stderr",
     "output_type": "stream",
     "text": [
      "/cephfs/volumes/hpc_data_prj/inf_narrative_msc/e8efa787-4d41-448d-a7aa-814b8f0fac1e/k24086575/jvenv/lib/python3.11/site-packages/sklearn/metrics/pairwise.py:2466: DataConversionWarning: Data was converted to boolean for metric jaccard\n",
      "  warnings.warn(msg, DataConversionWarning)\n"
     ]
    },
    {
     "name": "stdout",
     "output_type": "stream",
     "text": [
      "  empathetic_dialogue vs math: 0.1055\n",
      "4992 4984\n"
     ]
    },
    {
     "name": "stderr",
     "output_type": "stream",
     "text": [
      "/cephfs/volumes/hpc_data_prj/inf_narrative_msc/e8efa787-4d41-448d-a7aa-814b8f0fac1e/k24086575/jvenv/lib/python3.11/site-packages/sklearn/metrics/pairwise.py:2466: DataConversionWarning: Data was converted to boolean for metric jaccard\n",
      "  warnings.warn(msg, DataConversionWarning)\n"
     ]
    },
    {
     "name": "stdout",
     "output_type": "stream",
     "text": [
      "  empathetic_dialogue vs mmlu: 0.1357\n",
      "4992 5000\n"
     ]
    },
    {
     "name": "stderr",
     "output_type": "stream",
     "text": [
      "/cephfs/volumes/hpc_data_prj/inf_narrative_msc/e8efa787-4d41-448d-a7aa-814b8f0fac1e/k24086575/jvenv/lib/python3.11/site-packages/sklearn/metrics/pairwise.py:2466: DataConversionWarning: Data was converted to boolean for metric jaccard\n",
      "  warnings.warn(msg, DataConversionWarning)\n"
     ]
    },
    {
     "name": "stdout",
     "output_type": "stream",
     "text": [
      "  empathetic_dialogue vs programming: 0.0602\n",
      "4998 4992\n"
     ]
    },
    {
     "name": "stderr",
     "output_type": "stream",
     "text": [
      "/cephfs/volumes/hpc_data_prj/inf_narrative_msc/e8efa787-4d41-448d-a7aa-814b8f0fac1e/k24086575/jvenv/lib/python3.11/site-packages/sklearn/metrics/pairwise.py:2466: DataConversionWarning: Data was converted to boolean for metric jaccard\n",
      "  warnings.warn(msg, DataConversionWarning)\n"
     ]
    },
    {
     "name": "stdout",
     "output_type": "stream",
     "text": [
      "  math vs empathetic_dialogue: 0.1055\n",
      "4998 4998\n"
     ]
    },
    {
     "name": "stderr",
     "output_type": "stream",
     "text": [
      "/cephfs/volumes/hpc_data_prj/inf_narrative_msc/e8efa787-4d41-448d-a7aa-814b8f0fac1e/k24086575/jvenv/lib/python3.11/site-packages/sklearn/metrics/pairwise.py:2466: DataConversionWarning: Data was converted to boolean for metric jaccard\n",
      "  warnings.warn(msg, DataConversionWarning)\n"
     ]
    },
    {
     "name": "stdout",
     "output_type": "stream",
     "text": [
      "  math vs math: 0.1784\n",
      "4998 4984\n"
     ]
    },
    {
     "name": "stderr",
     "output_type": "stream",
     "text": [
      "/cephfs/volumes/hpc_data_prj/inf_narrative_msc/e8efa787-4d41-448d-a7aa-814b8f0fac1e/k24086575/jvenv/lib/python3.11/site-packages/sklearn/metrics/pairwise.py:2466: DataConversionWarning: Data was converted to boolean for metric jaccard\n",
      "  warnings.warn(msg, DataConversionWarning)\n"
     ]
    },
    {
     "name": "stdout",
     "output_type": "stream",
     "text": [
      "  math vs mmlu: 0.1290\n",
      "4998 5000\n"
     ]
    },
    {
     "name": "stderr",
     "output_type": "stream",
     "text": [
      "/cephfs/volumes/hpc_data_prj/inf_narrative_msc/e8efa787-4d41-448d-a7aa-814b8f0fac1e/k24086575/jvenv/lib/python3.11/site-packages/sklearn/metrics/pairwise.py:2466: DataConversionWarning: Data was converted to boolean for metric jaccard\n",
      "  warnings.warn(msg, DataConversionWarning)\n"
     ]
    },
    {
     "name": "stdout",
     "output_type": "stream",
     "text": [
      "  math vs programming: 0.1054\n",
      "4984 4992\n"
     ]
    },
    {
     "name": "stderr",
     "output_type": "stream",
     "text": [
      "/cephfs/volumes/hpc_data_prj/inf_narrative_msc/e8efa787-4d41-448d-a7aa-814b8f0fac1e/k24086575/jvenv/lib/python3.11/site-packages/sklearn/metrics/pairwise.py:2466: DataConversionWarning: Data was converted to boolean for metric jaccard\n",
      "  warnings.warn(msg, DataConversionWarning)\n"
     ]
    },
    {
     "name": "stdout",
     "output_type": "stream",
     "text": [
      "  mmlu vs empathetic_dialogue: 0.1357\n",
      "4984 4998\n"
     ]
    },
    {
     "name": "stderr",
     "output_type": "stream",
     "text": [
      "/cephfs/volumes/hpc_data_prj/inf_narrative_msc/e8efa787-4d41-448d-a7aa-814b8f0fac1e/k24086575/jvenv/lib/python3.11/site-packages/sklearn/metrics/pairwise.py:2466: DataConversionWarning: Data was converted to boolean for metric jaccard\n",
      "  warnings.warn(msg, DataConversionWarning)\n"
     ]
    },
    {
     "name": "stdout",
     "output_type": "stream",
     "text": [
      "  mmlu vs math: 0.1290\n",
      "4984 4984\n"
     ]
    },
    {
     "name": "stderr",
     "output_type": "stream",
     "text": [
      "/cephfs/volumes/hpc_data_prj/inf_narrative_msc/e8efa787-4d41-448d-a7aa-814b8f0fac1e/k24086575/jvenv/lib/python3.11/site-packages/sklearn/metrics/pairwise.py:2466: DataConversionWarning: Data was converted to boolean for metric jaccard\n",
      "  warnings.warn(msg, DataConversionWarning)\n"
     ]
    },
    {
     "name": "stdout",
     "output_type": "stream",
     "text": [
      "  mmlu vs mmlu: 0.1670\n",
      "4984 5000\n"
     ]
    },
    {
     "name": "stderr",
     "output_type": "stream",
     "text": [
      "/cephfs/volumes/hpc_data_prj/inf_narrative_msc/e8efa787-4d41-448d-a7aa-814b8f0fac1e/k24086575/jvenv/lib/python3.11/site-packages/sklearn/metrics/pairwise.py:2466: DataConversionWarning: Data was converted to boolean for metric jaccard\n",
      "  warnings.warn(msg, DataConversionWarning)\n"
     ]
    },
    {
     "name": "stdout",
     "output_type": "stream",
     "text": [
      "  mmlu vs programming: 0.0852\n",
      "5000 4992\n"
     ]
    },
    {
     "name": "stderr",
     "output_type": "stream",
     "text": [
      "/cephfs/volumes/hpc_data_prj/inf_narrative_msc/e8efa787-4d41-448d-a7aa-814b8f0fac1e/k24086575/jvenv/lib/python3.11/site-packages/sklearn/metrics/pairwise.py:2466: DataConversionWarning: Data was converted to boolean for metric jaccard\n",
      "  warnings.warn(msg, DataConversionWarning)\n"
     ]
    },
    {
     "name": "stdout",
     "output_type": "stream",
     "text": [
      "  programming vs empathetic_dialogue: 0.0602\n",
      "5000 4998\n"
     ]
    },
    {
     "name": "stderr",
     "output_type": "stream",
     "text": [
      "/cephfs/volumes/hpc_data_prj/inf_narrative_msc/e8efa787-4d41-448d-a7aa-814b8f0fac1e/k24086575/jvenv/lib/python3.11/site-packages/sklearn/metrics/pairwise.py:2466: DataConversionWarning: Data was converted to boolean for metric jaccard\n",
      "  warnings.warn(msg, DataConversionWarning)\n"
     ]
    },
    {
     "name": "stdout",
     "output_type": "stream",
     "text": [
      "  programming vs math: 0.1054\n",
      "5000 4984\n"
     ]
    },
    {
     "name": "stderr",
     "output_type": "stream",
     "text": [
      "/cephfs/volumes/hpc_data_prj/inf_narrative_msc/e8efa787-4d41-448d-a7aa-814b8f0fac1e/k24086575/jvenv/lib/python3.11/site-packages/sklearn/metrics/pairwise.py:2466: DataConversionWarning: Data was converted to boolean for metric jaccard\n",
      "  warnings.warn(msg, DataConversionWarning)\n"
     ]
    },
    {
     "name": "stdout",
     "output_type": "stream",
     "text": [
      "  programming vs mmlu: 0.0852\n",
      "5000 5000\n"
     ]
    },
    {
     "name": "stderr",
     "output_type": "stream",
     "text": [
      "/cephfs/volumes/hpc_data_prj/inf_narrative_msc/e8efa787-4d41-448d-a7aa-814b8f0fac1e/k24086575/jvenv/lib/python3.11/site-packages/sklearn/metrics/pairwise.py:2466: DataConversionWarning: Data was converted to boolean for metric jaccard\n",
      "  warnings.warn(msg, DataConversionWarning)\n"
     ]
    },
    {
     "name": "stdout",
     "output_type": "stream",
     "text": [
      "  programming vs programming: 0.2590\n"
     ]
    },
    {
     "data": {
      "image/png": "[encoded data removed]",
      "text/plain": [
       "<Figure size 800x800 with 4 Axes>"
      ]
     },
     "metadata": {},
     "output_type": "display_data"
    },
    {
     "name": "stdout",
     "output_type": "stream",
     "text": [
      "Saved clustermap to figures/clustermap_att_layer0.png\n",
      "[mlp] preparing data…\n",
      "[mlp] computing Jaccard…\n",
      "4992 4992\n"
     ]
    },
    {
     "name": "stderr",
     "output_type": "stream",
     "text": [
      "/cephfs/volumes/hpc_data_prj/inf_narrative_msc/e8efa787-4d41-448d-a7aa-814b8f0fac1e/k24086575/jvenv/lib/python3.11/site-packages/sklearn/metrics/pairwise.py:2466: DataConversionWarning: Data was converted to boolean for metric jaccard\n",
      "  warnings.warn(msg, DataConversionWarning)\n"
     ]
    },
    {
     "name": "stdout",
     "output_type": "stream",
     "text": [
      "  empathetic_dialogue vs empathetic_dialogue: 0.1693\n",
      "4992 4998\n"
     ]
    },
    {
     "name": "stderr",
     "output_type": "stream",
     "text": [
      "/cephfs/volumes/hpc_data_prj/inf_narrative_msc/e8efa787-4d41-448d-a7aa-814b8f0fac1e/k24086575/jvenv/lib/python3.11/site-packages/sklearn/metrics/pairwise.py:2466: DataConversionWarning: Data was converted to boolean for metric jaccard\n",
      "  warnings.warn(msg, DataConversionWarning)\n"
     ]
    },
    {
     "name": "stdout",
     "output_type": "stream",
     "text": [
      "  empathetic_dialogue vs math: 0.1187\n",
      "4992 4984\n"
     ]
    },
    {
     "name": "stderr",
     "output_type": "stream",
     "text": [
      "/cephfs/volumes/hpc_data_prj/inf_narrative_msc/e8efa787-4d41-448d-a7aa-814b8f0fac1e/k24086575/jvenv/lib/python3.11/site-packages/sklearn/metrics/pairwise.py:2466: DataConversionWarning: Data was converted to boolean for metric jaccard\n",
      "  warnings.warn(msg, DataConversionWarning)\n"
     ]
    },
    {
     "name": "stdout",
     "output_type": "stream",
     "text": [
      "  empathetic_dialogue vs mmlu: 0.1380\n",
      "4992 5000\n"
     ]
    },
    {
     "name": "stderr",
     "output_type": "stream",
     "text": [
      "/cephfs/volumes/hpc_data_prj/inf_narrative_msc/e8efa787-4d41-448d-a7aa-814b8f0fac1e/k24086575/jvenv/lib/python3.11/site-packages/sklearn/metrics/pairwise.py:2466: DataConversionWarning: Data was converted to boolean for metric jaccard\n",
      "  warnings.warn(msg, DataConversionWarning)\n"
     ]
    },
    {
     "name": "stdout",
     "output_type": "stream",
     "text": [
      "  empathetic_dialogue vs programming: 0.0584\n",
      "4998 4992\n"
     ]
    },
    {
     "name": "stderr",
     "output_type": "stream",
     "text": [
      "/cephfs/volumes/hpc_data_prj/inf_narrative_msc/e8efa787-4d41-448d-a7aa-814b8f0fac1e/k24086575/jvenv/lib/python3.11/site-packages/sklearn/metrics/pairwise.py:2466: DataConversionWarning: Data was converted to boolean for metric jaccard\n",
      "  warnings.warn(msg, DataConversionWarning)\n"
     ]
    },
    {
     "name": "stdout",
     "output_type": "stream",
     "text": [
      "  math vs empathetic_dialogue: 0.1187\n",
      "4998 4998\n"
     ]
    },
    {
     "name": "stderr",
     "output_type": "stream",
     "text": [
      "/cephfs/volumes/hpc_data_prj/inf_narrative_msc/e8efa787-4d41-448d-a7aa-814b8f0fac1e/k24086575/jvenv/lib/python3.11/site-packages/sklearn/metrics/pairwise.py:2466: DataConversionWarning: Data was converted to boolean for metric jaccard\n",
      "  warnings.warn(msg, DataConversionWarning)\n"
     ]
    },
    {
     "name": "stdout",
     "output_type": "stream",
     "text": [
      "  math vs math: 0.1948\n",
      "4998 4984\n"
     ]
    },
    {
     "name": "stderr",
     "output_type": "stream",
     "text": [
      "/cephfs/volumes/hpc_data_prj/inf_narrative_msc/e8efa787-4d41-448d-a7aa-814b8f0fac1e/k24086575/jvenv/lib/python3.11/site-packages/sklearn/metrics/pairwise.py:2466: DataConversionWarning: Data was converted to boolean for metric jaccard\n",
      "  warnings.warn(msg, DataConversionWarning)\n"
     ]
    },
    {
     "name": "stdout",
     "output_type": "stream",
     "text": [
      "  math vs mmlu: 0.1483\n",
      "4998 5000\n"
     ]
    },
    {
     "name": "stderr",
     "output_type": "stream",
     "text": [
      "/cephfs/volumes/hpc_data_prj/inf_narrative_msc/e8efa787-4d41-448d-a7aa-814b8f0fac1e/k24086575/jvenv/lib/python3.11/site-packages/sklearn/metrics/pairwise.py:2466: DataConversionWarning: Data was converted to boolean for metric jaccard\n",
      "  warnings.warn(msg, DataConversionWarning)\n"
     ]
    },
    {
     "name": "stdout",
     "output_type": "stream",
     "text": [
      "  math vs programming: 0.1004\n",
      "4984 4992\n"
     ]
    },
    {
     "name": "stderr",
     "output_type": "stream",
     "text": [
      "/cephfs/volumes/hpc_data_prj/inf_narrative_msc/e8efa787-4d41-448d-a7aa-814b8f0fac1e/k24086575/jvenv/lib/python3.11/site-packages/sklearn/metrics/pairwise.py:2466: DataConversionWarning: Data was converted to boolean for metric jaccard\n",
      "  warnings.warn(msg, DataConversionWarning)\n"
     ]
    },
    {
     "name": "stdout",
     "output_type": "stream",
     "text": [
      "  mmlu vs empathetic_dialogue: 0.1380\n",
      "4984 4998\n"
     ]
    },
    {
     "name": "stderr",
     "output_type": "stream",
     "text": [
      "/cephfs/volumes/hpc_data_prj/inf_narrative_msc/e8efa787-4d41-448d-a7aa-814b8f0fac1e/k24086575/jvenv/lib/python3.11/site-packages/sklearn/metrics/pairwise.py:2466: DataConversionWarning: Data was converted to boolean for metric jaccard\n",
      "  warnings.warn(msg, DataConversionWarning)\n"
     ]
    },
    {
     "name": "stdout",
     "output_type": "stream",
     "text": [
      "  mmlu vs math: 0.1483\n",
      "4984 4984\n"
     ]
    },
    {
     "name": "stderr",
     "output_type": "stream",
     "text": [
      "/cephfs/volumes/hpc_data_prj/inf_narrative_msc/e8efa787-4d41-448d-a7aa-814b8f0fac1e/k24086575/jvenv/lib/python3.11/site-packages/sklearn/metrics/pairwise.py:2466: DataConversionWarning: Data was converted to boolean for metric jaccard\n",
      "  warnings.warn(msg, DataConversionWarning)\n"
     ]
    },
    {
     "name": "stdout",
     "output_type": "stream",
     "text": [
      "  mmlu vs mmlu: 0.1743\n",
      "4984 5000\n"
     ]
    },
    {
     "name": "stderr",
     "output_type": "stream",
     "text": [
      "/cephfs/volumes/hpc_data_prj/inf_narrative_msc/e8efa787-4d41-448d-a7aa-814b8f0fac1e/k24086575/jvenv/lib/python3.11/site-packages/sklearn/metrics/pairwise.py:2466: DataConversionWarning: Data was converted to boolean for metric jaccard\n",
      "  warnings.warn(msg, DataConversionWarning)\n"
     ]
    },
    {
     "name": "stdout",
     "output_type": "stream",
     "text": [
      "  mmlu vs programming: 0.0821\n",
      "5000 4992\n"
     ]
    },
    {
     "name": "stderr",
     "output_type": "stream",
     "text": [
      "/cephfs/volumes/hpc_data_prj/inf_narrative_msc/e8efa787-4d41-448d-a7aa-814b8f0fac1e/k24086575/jvenv/lib/python3.11/site-packages/sklearn/metrics/pairwise.py:2466: DataConversionWarning: Data was converted to boolean for metric jaccard\n",
      "  warnings.warn(msg, DataConversionWarning)\n"
     ]
    },
    {
     "name": "stdout",
     "output_type": "stream",
     "text": [
      "  programming vs empathetic_dialogue: 0.0584\n",
      "5000 4998\n"
     ]
    },
    {
     "name": "stderr",
     "output_type": "stream",
     "text": [
      "/cephfs/volumes/hpc_data_prj/inf_narrative_msc/e8efa787-4d41-448d-a7aa-814b8f0fac1e/k24086575/jvenv/lib/python3.11/site-packages/sklearn/metrics/pairwise.py:2466: DataConversionWarning: Data was converted to boolean for metric jaccard\n",
      "  warnings.warn(msg, DataConversionWarning)\n"
     ]
    },
    {
     "name": "stdout",
     "output_type": "stream",
     "text": [
      "  programming vs math: 0.1004\n",
      "5000 4984\n"
     ]
    },
    {
     "name": "stderr",
     "output_type": "stream",
     "text": [
      "/cephfs/volumes/hpc_data_prj/inf_narrative_msc/e8efa787-4d41-448d-a7aa-814b8f0fac1e/k24086575/jvenv/lib/python3.11/site-packages/sklearn/metrics/pairwise.py:2466: DataConversionWarning: Data was converted to boolean for metric jaccard\n",
      "  warnings.warn(msg, DataConversionWarning)\n"
     ]
    },
    {
     "name": "stdout",
     "output_type": "stream",
     "text": [
      "  programming vs mmlu: 0.0821\n",
      "5000 5000\n"
     ]
    },
    {
     "name": "stderr",
     "output_type": "stream",
     "text": [
      "/cephfs/volumes/hpc_data_prj/inf_narrative_msc/e8efa787-4d41-448d-a7aa-814b8f0fac1e/k24086575/jvenv/lib/python3.11/site-packages/sklearn/metrics/pairwise.py:2466: DataConversionWarning: Data was converted to boolean for metric jaccard\n",
      "  warnings.warn(msg, DataConversionWarning)\n"
     ]
    },
    {
     "name": "stdout",
     "output_type": "stream",
     "text": [
      "  programming vs programming: 0.2259\n"
     ]
    },
    {
     "data": {
      "image/png": "[encoded data removed]",
      "text/plain": [
       "<Figure size 800x800 with 4 Axes>"
      ]
     },
     "metadata": {},
     "output_type": "display_data"
    },
    {
     "name": "stdout",
     "output_type": "stream",
     "text": [
      "Saved clustermap to figures/clustermap_mlp_layer0.png\n"
     ]
    }
   ],
   "source": [
    "TYPE_SAE   = [\"res\", \"att\", \"mlp\"]\n",
    "TYPE_NAMES = ['empathetic_dialogue', 'math', 'mmlu', 'programming']\n",
    "LAYER_NUM  = \"0\"\n",
    "\n",
    "for sae in TYPE_SAE:\n",
    "    col = (\n",
    "        f\"gemma-scope-2b-pt-{sae}-\"\n",
    "        f\"canonical-layer_{LAYER_NUM}/width_16k/\"\n",
    "        \"canonical-token_feature_ids\"\n",
    "    )\n",
    "    print(f\"[{sae}] preparing data…\")\n",
    "    # <-- fill nan with \"[]\" so literal_eval always sees a list\n",
    "    lists = df[col].fillna(\"[]\").apply(ast.literal_eval)\n",
    "    mlb = MultiLabelBinarizer()\n",
    "    bin_matrix = mlb.fit_transform(lists)\n",
    "    print(f\"[{sae}] computing Jaccard…\")\n",
    "    \n",
    "    results = []\n",
    "    for c1 in TYPE_NAMES:\n",
    "        for c2 in TYPE_NAMES:\n",
    "            sim, avg = jaccard_evaluator_fast(df, bin_matrix, c1, c2)\n",
    "            if avg is None: continue\n",
    "            print(f\"  {c1} vs {c2}: {avg:.4f}\")\n",
    "            results.append({'X': c1, 'Y': c2, 'avg_similarity': avg})\n",
    "    \n",
    "    if not results:\n",
    "        print(f\"[{sae}] nothing to pivot, skipping.\")\n",
    "        continue\n",
    "    \n",
    "    results_df = pd.DataFrame(results)\n",
    "    sim_table = results_df.pivot(index='X', columns='Y', values='avg_similarity')\n",
    "    os.makedirs(\"jaccard_outputs\", exist_ok=True)\n",
    "    results_df.to_csv(f\"jaccard_outputs/results_{sae}.csv\", index=False)\n",
    "    sim_table.to_csv(f\"jaccard_outputs/pivot_{sae}.csv\")\n",
    "    save_layer_graph(sim_table, sae, LAYER_NUM)"
   ]
  },
  {
   "cell_type": "markdown",
   "id": "07426cd8-9aa8-4a49-8906-973a8bc84003",
   "metadata": {},
   "source": [
    "# TESTING"
   ]
  },
  {
   "cell_type": "code",
   "execution_count": null,
   "id": "c8e1f727-ed1e-4619-a565-55da98cdb654",
   "metadata": {},
   "outputs": [],
   "source": [
    "asdfasdfasdfasdf"
   ]
  },
  {
   "cell_type": "code",
   "execution_count": null,
   "id": "7de62cd4-3333-48b4-a220-79985ff9609d",
   "metadata": {},
   "outputs": [],
   "source": [
    "# --- Config ---\n",
    "col = 'gemma-scope-2b-pt-res-canonical-layer_0/width_16k/canonical-token_feature_ids'\n",
    "type_col = 'type'\n",
    "sae_type = 'res'\n",
    "layer_num = 0\n",
    "\n",
    "# --- Filter for the correct SAE type (if there's such a column) ---\n",
    "# If your df has a column that indicates SAE type like 'sae_type', filter by it\n",
    "# df = df[df['sae_type'] == sae_type]  # Uncomment if this column exists\n",
    "\n",
    "# --- Parse neuron lists ---\n",
    "df[col] = df[col].apply(ast.literal_eval)\n",
    "\n",
    "# --- Binarize feature lists ---\n",
    "mlb = MultiLabelBinarizer()\n",
    "binary_mat = mlb.fit_transform(df[col])\n",
    "\n",
    "# Add binary vectors back to df for tracking\n",
    "df['binary'] = list(binary_mat)\n",
    "\n",
    "# --- Jaccard Helper ---\n",
    "def jaccard(u, v):\n",
    "    return jaccard_score(u, v)\n",
    "\n",
    "# --- Get unique classes ---\n",
    "classes = df[type_col].unique()\n",
    "\n",
    "# --- Compute Within-Class Similarities ---\n",
    "within_class_scores = {}\n",
    "for cls in classes:\n",
    "    vecs = df[df[type_col] == cls]['binary'].tolist()\n",
    "    sims = [jaccard(vecs[i], vecs[j]) \n",
    "            for i in range(len(vecs)) for j in range(i+1, len(vecs))]\n",
    "    within_class_scores[cls] = sum(sims) / len(sims) if sims else 0\n",
    "\n",
    "# --- Compute Cross-Class Similarities ---\n",
    "cross_class_scores = {}\n",
    "for cls1 in classes:\n",
    "    for cls2 in classes:\n",
    "        if cls1 == cls2: continue\n",
    "        key = f\"{cls1} vs {cls2}\"\n",
    "        vecs1 = df[df[type_col] == cls1]['binary'].tolist()\n",
    "        vecs2 = df[df[type_col] == cls2]['binary'].tolist()\n",
    "        sims = [jaccard(v1, v2) for v1 in vecs1 for v2 in vecs2]\n",
    "        cross_class_scores[key] = sum(sims) / len(sims) if sims else 0\n"
   ]
  },
  {
   "cell_type": "markdown",
   "id": "9bb72fbf-4721-4d2b-8e2a-a666123ed7b6",
   "metadata": {},
   "source": []
  },
  {
   "cell_type": "code",
   "execution_count": null,
   "id": "eedce123-10df-41be-97f1-9b1e07edff84",
   "metadata": {},
   "outputs": [],
   "source": [
    "import pandas as pd\n",
    "import matplotlib.pyplot as plt\n",
    "\n",
    "# These would normally be computed from the user's DataFrame, but using dummy values to simulate output\n",
    "within_class_scores = {\n",
    "    'empathetic_dialogue': 0.41,\n",
    "    'math': 0.33,\n",
    "    'mmlu': 0.37,\n",
    "    'programming': 0.39\n",
    "}\n",
    "\n",
    "cross_class_scores = {\n",
    "    'empathetic_dialogue vs math': 0.19,\n",
    "    'empathetic_dialogue vs mmlu': 0.22,\n",
    "    'empathetic_dialogue vs programming': 0.21,\n",
    "    'math vs mmlu': 0.23,\n",
    "    'math vs programming': 0.20,\n",
    "    'mmlu vs programming': 0.18\n",
    "}\n",
    "\n",
    "# Convert to DataFrame\n",
    "within_df = pd.DataFrame(list(within_class_scores.items()), columns=[\"label\", \"jaccard\"])\n",
    "within_df[\"type\"] = \"within\"\n",
    "\n",
    "cross_df = pd.DataFrame(list(cross_class_scores.items()), columns=[\"label\", \"jaccard\"])\n",
    "cross_df[\"type\"] = \"cross\"\n",
    "\n",
    "combined_df = pd.concat([within_df, cross_df], ignore_index=True)\n",
    "\n",
    "# Line plot\n",
    "plt.figure(figsize=(10, 5))\n",
    "for key, grp in combined_df.groupby(\"type\"):\n",
    "    plt.plot(grp[\"label\"], grp[\"jaccard\"], marker='o', label=key)\n",
    "\n",
    "plt.xticks(rotation=45)\n",
    "plt.ylabel(\"Average Jaccard Similarity\")\n",
    "plt.title(\"Jaccard Similarity (Within vs Cross Class) - Layer 0 (res)\")\n",
    "plt.legend()\n",
    "plt.tight_layout()\n",
    "plt.show()\n"
   ]
  },
  {
   "cell_type": "code",
   "execution_count": 6,
   "id": "140125ef-5999-4cf6-beac-40d1a192856d",
   "metadata": {},
   "outputs": [
    {
     "data": {
      "image/png": "[encoded data removed]",
      "text/plain": [
       "<Figure size 1000x500 with 1 Axes>"
      ]
     },
     "metadata": {},
     "output_type": "display_data"
    }
   ],
   "source": [
    "import pandas as pd\n",
    "import matplotlib.pyplot as plt\n",
    "\n",
    "# ── Replace these dicts with your computed values ──\n",
    "within_class_scores = {\n",
    "    'empathetic_dialogue': 0.41,\n",
    "    'math': 0.33,\n",
    "    'mmlu': 0.37,\n",
    "    'programming': 0.39\n",
    "}\n",
    "\n",
    "cross_class_scores = {\n",
    "    'empathetic_dialogue vs math': 0.19,\n",
    "    'empathetic_dialogue vs mmlu': 0.22,\n",
    "    'empathetic_dialogue vs programming': 0.21,\n",
    "    'math vs mmlu': 0.23,\n",
    "    'math vs programming': 0.20,\n",
    "    'mmlu vs programming': 0.18\n",
    "}\n",
    "\n",
    "# ── Build a single DataFrame for plotting ──\n",
    "within_df = pd.DataFrame({\n",
    "    'label': list(within_class_scores.keys()),\n",
    "    'jaccard': list(within_class_scores.values()),\n",
    "    'type': 'within'\n",
    "})\n",
    "\n",
    "cross_df = pd.DataFrame({\n",
    "    'label': list(cross_class_scores.keys()),\n",
    "    'jaccard': list(cross_class_scores.values()),\n",
    "    'type': 'cross'\n",
    "})\n",
    "\n",
    "df_plot = pd.concat([within_df, cross_df], ignore_index=True)\n",
    "\n",
    "# ── Line plot ──\n",
    "plt.figure(figsize=(10, 5))\n",
    "for t, grp in df_plot.groupby('type'):\n",
    "    plt.plot(grp['label'], grp['jaccard'], marker='o', label=t)\n",
    "\n",
    "plt.xticks(rotation=45, ha='right')\n",
    "plt.ylabel('Average Jaccard Similarity')\n",
    "plt.title('Jaccard Similarity (Within vs Cross Class) – Layer 0 (res)')\n",
    "plt.legend()\n",
    "plt.tight_layout()\n",
    "plt.show()\n"
   ]
  },
  {
   "cell_type": "code",
   "execution_count": null,
   "id": "f4cfc486-f2cc-46a1-b01c-c2ad230ccdcc",
   "metadata": {},
   "outputs": [],
   "source": []
  }
 ],
 "metadata": {
  "kernelspec": {
   "display_name": "Python 3 (ipykernel)",
   "language": "python",
   "name": "python3"
  },
  "language_info": {
   "codemirror_mode": {
    "name": "ipython",
    "version": 3
   },
   "file_extension": ".py",
   "mimetype": "text/x-python",
   "name": "python",
   "nbconvert_exporter": "python",
   "pygments_lexer": "ipython3",
   "version": "3.11.6"
  }
 },
 "nbformat": 4,
 "nbformat_minor": 5
}
