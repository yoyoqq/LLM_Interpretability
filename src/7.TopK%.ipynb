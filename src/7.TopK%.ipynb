{
 "cells": [
  {
   "cell_type": "code",
   "execution_count": 1,
   "id": "7cb5b13d-c405-4c32-81d4-fc0bd89fa911",
   "metadata": {},
   "outputs": [],
   "source": [
    "import pandas as pd\n",
    "import ast\n",
    "from collections import Counter\n",
    "import matplotlib.pyplot as plt\n",
    "import numpy as np\n",
    "import ast\n",
    "import csv\n",
    "import seaborn as sns\n",
    "pd.set_option('display.max_columns', None)\n",
    "pd.set_option('display.max_rows', None)"
   ]
  },
  {
   "cell_type": "code",
   "execution_count": 2,
   "id": "e55ef5f5-1330-4f71-b0ad-eae274d5af5a",
   "metadata": {},
   "outputs": [
    {
     "data": {
      "text/html": [
       "<div>\n",
       "<style scoped>\n",
       "    .dataframe tbody tr th:only-of-type {\n",
       "        vertical-align: middle;\n",
       "    }\n",
       "\n",
       "    .dataframe tbody tr th {\n",
       "        vertical-align: top;\n",
       "    }\n",
       "\n",
       "    .dataframe thead th {\n",
       "        text-align: right;\n",
       "    }\n",
       "</style>\n",
       "<table border=\"1\" class=\"dataframe\">\n",
       "  <thead>\n",
       "    <tr style=\"text-align: right;\">\n",
       "      <th></th>\n",
       "      <th>Unnamed: 0</th>\n",
       "      <th>type</th>\n",
       "      <th>layer</th>\n",
       "      <th>class1</th>\n",
       "      <th>class2</th>\n",
       "      <th>Neuron_ID</th>\n",
       "      <th>Contribution</th>\n",
       "    </tr>\n",
       "  </thead>\n",
       "  <tbody>\n",
       "    <tr>\n",
       "      <th>0</th>\n",
       "      <td>0</td>\n",
       "      <td>mlp</td>\n",
       "      <td>7</td>\n",
       "      <td>math</td>\n",
       "      <td>programming</td>\n",
       "      <td>6117</td>\n",
       "      <td>8.144039e+11</td>\n",
       "    </tr>\n",
       "    <tr>\n",
       "      <th>1</th>\n",
       "      <td>1</td>\n",
       "      <td>mlp</td>\n",
       "      <td>24</td>\n",
       "      <td>math</td>\n",
       "      <td>programming</td>\n",
       "      <td>9329</td>\n",
       "      <td>7.782393e+11</td>\n",
       "    </tr>\n",
       "    <tr>\n",
       "      <th>2</th>\n",
       "      <td>2</td>\n",
       "      <td>mlp</td>\n",
       "      <td>23</td>\n",
       "      <td>math</td>\n",
       "      <td>programming</td>\n",
       "      <td>10184</td>\n",
       "      <td>7.565522e+11</td>\n",
       "    </tr>\n",
       "    <tr>\n",
       "      <th>3</th>\n",
       "      <td>3</td>\n",
       "      <td>res</td>\n",
       "      <td>1</td>\n",
       "      <td>math</td>\n",
       "      <td>programming</td>\n",
       "      <td>12054</td>\n",
       "      <td>6.470184e+11</td>\n",
       "    </tr>\n",
       "    <tr>\n",
       "      <th>4</th>\n",
       "      <td>4</td>\n",
       "      <td>mlp</td>\n",
       "      <td>24</td>\n",
       "      <td>math</td>\n",
       "      <td>programming</td>\n",
       "      <td>282</td>\n",
       "      <td>5.486137e+11</td>\n",
       "    </tr>\n",
       "  </tbody>\n",
       "</table>\n",
       "</div>"
      ],
      "text/plain": [
       "   Unnamed: 0 type  layer class1       class2  Neuron_ID  Contribution\n",
       "0           0  mlp      7   math  programming       6117  8.144039e+11\n",
       "1           1  mlp     24   math  programming       9329  7.782393e+11\n",
       "2           2  mlp     23   math  programming      10184  7.565522e+11\n",
       "3           3  res      1   math  programming      12054  6.470184e+11\n",
       "4           4  mlp     24   math  programming        282  5.486137e+11"
      ]
     },
     "execution_count": 2,
     "metadata": {},
     "output_type": "execute_result"
    }
   ],
   "source": [
    "path = \"./inf_narrative_msc/k24086575/dot_product/neuron_contribution_between_class.csv\"\n",
    "df = pd.read_csv(path, encoding=\"utf-8-sig\")\n",
    "df.sort_values(\"Contribution\", ascending=False).reset_index(drop=True)\n",
    "df.head()"
   ]
  },
  {
   "cell_type": "code",
   "execution_count": 3,
   "id": "00a6fcce-3483-48d7-884d-6d46e5bfb571",
   "metadata": {},
   "outputs": [
    {
     "data": {
      "text/plain": [
       "(2354851, 7)"
      ]
     },
     "execution_count": 3,
     "metadata": {},
     "output_type": "execute_result"
    }
   ],
   "source": [
    "df.shape"
   ]
  },
  {
   "cell_type": "code",
   "execution_count": 31,
   "id": "c30c84ea-d79c-42ce-a9b4-63b3e404da26",
   "metadata": {},
   "outputs": [
    {
     "name": "stdout",
     "output_type": "stream",
     "text": [
      "    Percentage  Data point  Contribution\n",
      "0         0.05      117742      128417.0\n",
      "1         0.10      235485       27144.0\n",
      "2         0.12      282582       17610.0\n",
      "3         0.15      353227       10179.0\n",
      "4         0.18      423873        6438.0\n",
      "5         0.20      470970        4902.0\n",
      "6         0.30      706455        1577.0\n",
      "7         0.40      941940         630.0\n",
      "8         0.50     1177425         278.0\n",
      "9         0.60     1412910         128.0\n",
      "10        0.70     1648395          58.0\n",
      "11        0.80     1883880          24.0\n",
      "12        0.90     2119365           8.0\n"
     ]
    }
   ],
   "source": [
    "import pandas as pd\n",
    "\n",
    "def get_X_contribution(p):\n",
    "    \"\"\"\n",
    "    Returns (idx, contribution) at percentile p through the DESC-sorted list.\n",
    "    p should be between 0 and 1.\n",
    "    \"\"\"\n",
    "    N = df.shape[0]\n",
    "    idx = int(p * (N - 1))\n",
    "    return idx, df.iloc[idx][\"Contribution\"]\n",
    "\n",
    "topK = [0.05 , 0.10, 0.12, 0.15, 0.18, 0.20, 0.30, 0.40, 0.50, 0.60, 0.70, 0.80, 0.90]\n",
    "\n",
    "idx_list = []\n",
    "percentage_list = []\n",
    "contrib_list = []\n",
    "\n",
    "for p in topK:\n",
    "    idx, contrib = get_X_contribution(p)\n",
    "    percentage_list.append(p)\n",
    "    idx_list.append(idx)\n",
    "    contrib_list.append(contrib)\n",
    "\n",
    "# now build a DataFrame\n",
    "pct_df = pd.DataFrame({\n",
    "    \"Percentage\": percentage_list,\n",
    "    \"Data point\":    idx_list,\n",
    "    \"Contribution\": contrib_list\n",
    "})\n",
    "\n",
    "print(pct_df)\n",
    "\n"
   ]
  },
  {
   "cell_type": "code",
   "execution_count": 29,
   "id": "91ea9c24-ca5b-4da1-affc-8f89f588aa3b",
   "metadata": {},
   "outputs": [],
   "source": [
    "pct_df.to_csv(\"percentile_contribution.csv\", index=False)"
   ]
  },
  {
   "cell_type": "markdown",
   "id": "ff83b766-78ee-4fdd-aaaf-834e4b0387f1",
   "metadata": {},
   "source": [
    "# Get 15% "
   ]
  },
  {
   "cell_type": "code",
   "execution_count": 48,
   "id": "37a521dc-2bcb-4297-9495-f8c13e11b6ce",
   "metadata": {},
   "outputs": [
    {
     "name": "stdout",
     "output_type": "stream",
     "text": [
      "Taking 70 rows out of 353227 total → 353227 rows\n",
      "   Unnamed: 0 type  layer class1       class2  Neuron_ID  Contribution\n",
      "0           0  mlp      7   math  programming       6117  8.144039e+11\n",
      "1           1  mlp     24   math  programming       9329  7.782393e+11\n",
      "2           2  mlp     23   math  programming      10184  7.565522e+11\n",
      "3           3  res      1   math  programming      12054  6.470184e+11\n",
      "4           4  mlp     24   math  programming        282  5.486137e+11\n",
      "(70, 7)\n"
     ]
    }
   ],
   "source": [
    "import pandas as pd\n",
    "\n",
    "# compute how many rows = 15%\n",
    "n = int(0.0002 * len(df))\n",
    "\n",
    "# take the first n rows\n",
    "top15pct = df.iloc[:n]\n",
    "\n",
    "print(f\"Taking {n} rows out of {len(df)} total → {len(df)} rows\")\n",
    "print(top15pct.head())\n",
    "print(top15pct.shape)\n",
    "top15pct.to_csv(\"./scratch/testTopContrib.csv\", index=False)"
   ]
  },
  {
   "cell_type": "code",
   "execution_count": 5,
   "id": "abe6ed40-5355-401f-88f6-da32ddcf78fc",
   "metadata": {},
   "outputs": [
    {
     "name": "stdout",
     "output_type": "stream",
     "text": [
      "Taking last 50 rows out of 2354851 total → 50 rows\n",
      "         Unnamed: 0 type  layer               class1       class2  Neuron_ID  \\\n",
      "2354801     2354801  mlp      5                 math  programming       5890   \n",
      "2354802     2354802  mlp      5                 math  programming       5744   \n",
      "2354803     2354803  mlp     24                 mmlu  programming       1690   \n",
      "2354804     2354804  mlp     19                 math         mmlu       4195   \n",
      "2354805     2354805  res      7  empathetic_dialogue         mmlu       7507   \n",
      "\n",
      "         Contribution  \n",
      "2354801           1.0  \n",
      "2354802           1.0  \n",
      "2354803           1.0  \n",
      "2354804           1.0  \n",
      "2354805           1.0  \n",
      "(50, 7)\n"
     ]
    }
   ],
   "source": [
    "# Get bottom rows \n",
    "# Option 1: using tail()\n",
    "bottom50 = df.tail(50)\n",
    "\n",
    "# Option 2: using iloc with negative indexing\n",
    "bottom50 = df.iloc[-50:]\n",
    "\n",
    "print(f\"Taking last 50 rows out of {len(df)} total → {len(bottom50)} rows\")\n",
    "print(bottom50.head())\n",
    "print(bottom50.shape)\n",
    "\n",
    "# Save to CSV\n",
    "bottom50.to_csv(\"./scratch/testBottomContrib.csv\", index=False)"
   ]
  },
  {
   "cell_type": "markdown",
   "id": "fc547e4a-d8b7-42af-b6b8-0f6c579d34ed",
   "metadata": {},
   "source": [
    "# Use Auto Interpret to get the neurons "
   ]
  },
  {
   "cell_type": "code",
   "execution_count": 6,
   "id": "78305968-9bf0-49ed-a1db-e32e239cabe6",
   "metadata": {},
   "outputs": [
    {
     "data": {
      "text/html": [
       "<div>\n",
       "<style scoped>\n",
       "    .dataframe tbody tr th:only-of-type {\n",
       "        vertical-align: middle;\n",
       "    }\n",
       "\n",
       "    .dataframe tbody tr th {\n",
       "        vertical-align: top;\n",
       "    }\n",
       "\n",
       "    .dataframe thead th {\n",
       "        text-align: right;\n",
       "    }\n",
       "</style>\n",
       "<table border=\"1\" class=\"dataframe\">\n",
       "  <thead>\n",
       "    <tr style=\"text-align: right;\">\n",
       "      <th></th>\n",
       "      <th>Unnamed: 0</th>\n",
       "      <th>type</th>\n",
       "      <th>layer</th>\n",
       "      <th>class1</th>\n",
       "      <th>class2</th>\n",
       "      <th>Neuron_ID</th>\n",
       "      <th>Contribution</th>\n",
       "    </tr>\n",
       "  </thead>\n",
       "  <tbody>\n",
       "    <tr>\n",
       "      <th>0</th>\n",
       "      <td>2354801</td>\n",
       "      <td>mlp</td>\n",
       "      <td>5</td>\n",
       "      <td>math</td>\n",
       "      <td>programming</td>\n",
       "      <td>5890</td>\n",
       "      <td>1.0</td>\n",
       "    </tr>\n",
       "    <tr>\n",
       "      <th>1</th>\n",
       "      <td>2354802</td>\n",
       "      <td>mlp</td>\n",
       "      <td>5</td>\n",
       "      <td>math</td>\n",
       "      <td>programming</td>\n",
       "      <td>5744</td>\n",
       "      <td>1.0</td>\n",
       "    </tr>\n",
       "    <tr>\n",
       "      <th>2</th>\n",
       "      <td>2354803</td>\n",
       "      <td>mlp</td>\n",
       "      <td>24</td>\n",
       "      <td>mmlu</td>\n",
       "      <td>programming</td>\n",
       "      <td>1690</td>\n",
       "      <td>1.0</td>\n",
       "    </tr>\n",
       "    <tr>\n",
       "      <th>3</th>\n",
       "      <td>2354804</td>\n",
       "      <td>mlp</td>\n",
       "      <td>19</td>\n",
       "      <td>math</td>\n",
       "      <td>mmlu</td>\n",
       "      <td>4195</td>\n",
       "      <td>1.0</td>\n",
       "    </tr>\n",
       "    <tr>\n",
       "      <th>4</th>\n",
       "      <td>2354805</td>\n",
       "      <td>res</td>\n",
       "      <td>7</td>\n",
       "      <td>empathetic_dialogue</td>\n",
       "      <td>mmlu</td>\n",
       "      <td>7507</td>\n",
       "      <td>1.0</td>\n",
       "    </tr>\n",
       "  </tbody>\n",
       "</table>\n",
       "</div>"
      ],
      "text/plain": [
       "   Unnamed: 0 type  layer               class1       class2  Neuron_ID  \\\n",
       "0     2354801  mlp      5                 math  programming       5890   \n",
       "1     2354802  mlp      5                 math  programming       5744   \n",
       "2     2354803  mlp     24                 mmlu  programming       1690   \n",
       "3     2354804  mlp     19                 math         mmlu       4195   \n",
       "4     2354805  res      7  empathetic_dialogue         mmlu       7507   \n",
       "\n",
       "   Contribution  \n",
       "0           1.0  \n",
       "1           1.0  \n",
       "2           1.0  \n",
       "3           1.0  \n",
       "4           1.0  "
      ]
     },
     "execution_count": 6,
     "metadata": {},
     "output_type": "execute_result"
    }
   ],
   "source": [
    "path = \"./scratch/testBottomContrib.csv\"\n",
    "df = pd.read_csv(path, encoding=\"utf-8-sig\")\n",
    "df.head()"
   ]
  },
  {
   "cell_type": "code",
   "execution_count": 7,
   "id": "d01ae5e9-6119-4307-b06e-cfdb21216c7e",
   "metadata": {},
   "outputs": [
    {
     "data": {
      "text/plain": [
       "(50, 7)"
      ]
     },
     "execution_count": 7,
     "metadata": {},
     "output_type": "execute_result"
    }
   ],
   "source": [
    "df.shape"
   ]
  },
  {
   "cell_type": "code",
   "execution_count": 8,
   "id": "9b1e8dad-b0f8-47a0-acf4-3521ebc90d66",
   "metadata": {},
   "outputs": [
    {
     "name": "stdout",
     "output_type": "stream",
     "text": [
      " instances of parentheses and expressions of the concept of \"status quo.\"\n",
      "elements of HTML and programming language syntax\n",
      " references to programming methods and serialization processes\n",
      " programming loops and function definitions\n",
      "references to SEO practices and related features in marketing contexts\n",
      " phrases expressing possession or ownership\n",
      "aspirations related to careers in design and cuisine\n",
      "references to specific individuals and their roles in a legal context\n",
      " references to specific objects or tools in a narrative context\n",
      " phrases indicating duration or quantity of time\n"
     ]
    }
   ],
   "source": [
    "import requests\n",
    "\n",
    "def get_feature(model_id, source, index):\n",
    "    try:\n",
    "        url = f\"https://www.neuronpedia.org/api/feature/{model_id}/{source}/{index}\"\n",
    "        resp = requests.get(url)\n",
    "        resp.raise_for_status()            # throws if not 200\n",
    "        feature = resp.json()\n",
    "        \n",
    "        # 2. Grab the list of explanations (might be empty!)\n",
    "        explanations = feature.get(\"explanations\", [])\n",
    "        \n",
    "        # 3. first description:\n",
    "        # if explanations:\n",
    "        return explanations[0][\"description\"]\n",
    "    except Exception as e:\n",
    "        return None\n",
    "    \n",
    "for i in range(10):\n",
    "    model = \"gemma-2-2b\"\n",
    "    layer = 21\n",
    "    sae_type = \"mlp\"\n",
    "    source = f\"{layer}-gemmascope-{sae_type}-16k\"\n",
    "    feat = get_feature(model, source, i)\n",
    "    print(feat)"
   ]
  },
  {
   "cell_type": "code",
   "execution_count": 9,
   "id": "c6c48511-035b-469d-b4f2-17bac5e39f30",
   "metadata": {},
   "outputs": [
    {
     "data": {
      "application/vnd.jupyter.widget-view+json": {
       "model_id": "a46f472dc4fe43b094e8be1201f98976",
       "version_major": 2,
       "version_minor": 0
      },
      "text/plain": [
       "Fetching features:   0%|          | 0/50 [00:00<?, ?it/s]"
      ]
     },
     "metadata": {},
     "output_type": "display_data"
    }
   ],
   "source": [
    "from tqdm.auto import tqdm\n",
    "\n",
    "model = \"gemma-2-2b\"\n",
    "explanations = []\n",
    "\n",
    "# for idx, row in df.iterrows():\n",
    "for idx, row in tqdm(df.iterrows(), total=len(df), desc=\"Fetching features\"):\n",
    "    sae_type  = row[\"type\"]\n",
    "    layer     = row[\"layer\"]\n",
    "    neuron_id = row[\"Neuron_ID\"]\n",
    "    source    = f\"{layer}-gemmascope-{sae_type}-16k\"\n",
    "\n",
    "    feat = get_feature(model, source, neuron_id)\n",
    "    explanations.append(feat)\n",
    "    # print(f\"{idx:>6}: type={sae_type}, layer={layer}, neuron={neuron_id} → {feat!r}\")\n",
    "df[\"Explanation\"] = explanations\n",
    "df.to_csv(path, index=False, encoding=\"utf-8-sig\")"
   ]
  },
  {
   "cell_type": "code",
   "execution_count": 15,
   "id": "87de5fd9-4b15-44a3-88eb-a989d40e92b7",
   "metadata": {},
   "outputs": [
    {
     "name": "stdout",
     "output_type": "stream",
     "text": [
      "\\midrule\n",
      "mlp & 5 & math & programming & 5890 & 1.000000 &  structures related to providing reasons or tips \\\\\n",
      "mlp & 5 & math & programming & 5744 & 1.000000 &  key-value assignments or variable declarations in programming contexts \\\\\n",
      "mlp & 24 & mmlu & programming & 1690 & 1.000000 & references to educational qualifications and assessments \\\\\n",
      "mlp & 19 & math & mmlu & 4195 & 1.000000 &  proper names and titles, particularly related to individuals and their credentials \\\\\n",
      "res & 7 & empathetic_dialogue & mmlu & 7507 & 1.000000 & references to sports team management and player transfers \\\\\n",
      "mlp & 5 & math & programming & 6518 & 1.000000 & details relating to interpersonal interactions and feelings \\\\\n",
      "res & 23 & mmlu & programming & 5989 & 1.000000 &  the word \"por\" and its variations \\\\\n",
      "mlp & 10 & math & programming & 15314 & 1.000000 &  HTML closing tags and associated text elements, particularly in a UI context \\\\\n",
      "att & 8 & mmlu & programming & 10416 & 1.000000 &  attends to vegetarian-related tokens from non-vegetarian-related tokens \\\\\n",
      "res & 23 & mmlu & programming & 4623 & 1.000000 & terms related to financial transactions or payment systems \\\\\n",
      "att & 5 & empathetic_dialogue & programming & 4838 & 1.000000 &  attends to the token \"promote\" from various contexts related to different tokens later in the sequence \\\\\n",
      "mlp & 7 & empathetic_dialogue & programming & 14898 & 1.000000 & references to awards and notable contributions in professional achievements \\\\\n",
      "att & 22 & empathetic_dialogue & mmlu & 15552 & 1.000000 &  attends to modals and negations from corresponding affirmative verbs \\\\\n",
      "res & 7 & empathetic_dialogue & mmlu & 7001 & 1.000000 & negations or expressions of skepticism \\\\\n",
      "mlp & 19 & math & mmlu & 4278 & 1.000000 &  specific file formats and numerical data related to images and measurements \\\\\n",
      "res & 7 & empathetic_dialogue & mmlu & 7073 & 1.000000 & sections and details that describe conditions or requirements related to construction and engineering processes \\\\\n",
      "att & 22 & empathetic_dialogue & mmlu & 16327 & 1.000000 &  attends to seasonal tokens \"spring\" and \"fall\" from surrounding temporal context tokens \\\\\n",
      "mlp & 19 & math & mmlu & 4689 & 1.000000 &  themes related to conflict and the balance between form and function \\\\\n",
      "res & 17 & empathetic_dialogue & mmlu & 1584 & 1.000000 & concepts related to technology and systems management \\\\\n",
      "att & 24 & empathetic_dialogue & mmlu & 9474 & 1.000000 &  attends to the token \"Department\" from government-related titles appearing later in the sequence \\\\\n",
      "res & 2 & math & programming & 15812 & 1.000000 & references to the United States \\\\\n",
      "res & 2 & math & programming & 15713 & 1.000000 & instances of the word \"forced\" \\\\\n",
      "att & 4 & math & mmlu & 10879 & 1.000000 &  attends to the numeric token \"7\" from various contexts where it appears in the text \\\\\n",
      "att & 3 & math & programming & 5298 & 1.000000 &  attends to expressions of certainty or belief from related tokens indicating uncertainty or comparison \\\\\n",
      "mlp & 6 & math & mmlu & 9001 & 1.000000 & mentions of numerical values and specific individuals in legal or administrative contexts \\\\\n",
      "res & 17 & empathetic_dialogue & mmlu & 1256 & 1.000000 &  phrases that indicate procedures or instructions \\\\\n",
      "mlp & 0 & math & mmlu & 15567 & 1.000000 &  classifications or levels associated with quality ratings in various contexts \\\\\n",
      "att & 1 & empathetic_dialogue & mmlu & 5440 & 1.000000 &  attends to scoring or significant action-related tokens from later tokens in a game context \\\\\n",
      "att & 1 & empathetic_dialogue & mmlu & 5472 & 1.000000 &  attends to screen-related tokens from screenplay-related tokens \\\\\n",
      "att & 1 & empathetic_dialogue & mmlu & 5477 & 1.000000 &  attends to tokens related to long-term and short-term outcomes from their respective associated terms \\\\\n",
      "att & 1 & empathetic_dialogue & mmlu & 5552 & 1.000000 &  attends to the token \"col\" from the token \"major.\" \\\\\n",
      "res & 17 & empathetic_dialogue & mmlu & 1897 & 1.000000 & text related to company affiliations and disclaimers \\\\\n",
      "res & 17 & empathetic_dialogue & mmlu & 1808 & 1.000000 & references to characters and elements from mythology and fantasy narratives \\\\\n",
      "att & 17 & mmlu & programming & 7771 & 1.000000 &  attends to health-related discussions from tokens discussing non-static methods or numerical values \\\\\n",
      "res & 2 & math & programming & 15060 & 1.000000 & terms related to property management and residential complexes \\\\\n",
      "att & 17 & mmlu & programming & 7924 & 1.000000 &  attends to specific terms from phrases connected through punctuation marks \\\\\n",
      "mlp & 15 & math & mmlu & 13200 & 1.000000 & references to personal experiences and expressions related to motherhood and parenting \\\\\n",
      "mlp & 15 & math & mmlu & 13212 & 1.000000 & specific phrases and terms related to legal and regulatory contexts \\\\\n",
      "mlp & 9 & empathetic_dialogue & math & 10468 & 1.000000 &  names, specifically surnames and proper nouns \\\\\n",
      "mlp & 9 & empathetic_dialogue & math & 10321 & 1.000000 &  elements related to symbolism and rituals in various cultural traditions \\\\\n",
      "mlp & 0 & math & mmlu & 15659 & 1.000000 &  the word \"all\" in various contexts \\\\\n",
      "mlp & 0 & math & mmlu & 15666 & 1.000000 & references to the degree or extent of something \\\\\n",
      "res & 17 & empathetic_dialogue & mmlu & 2013 & 1.000000 & processes and actions related to challenges in achieving something successfully \\\\\n",
      "mlp & 9 & empathetic_dialogue & math & 10554 & 1.000000 & specific sequences or patterns in character strings, likely focusing on accented characters and special symbols \\\\\n",
      "mlp & 0 & math & mmlu & 15266 & 1.000000 &  occurrences of the word \"register\" in various contexts \\\\\n",
      "mlp & 0 & math & mmlu & 15361 & 1.000000 &  references to calendars or dates \\\\\n",
      "mlp & 23 & math & mmlu & 170 & 1.000000 &  numerical data or values, particularly in a scientific or statistical context \\\\\n",
      "mlp & 23 & math & mmlu & 257 & 1.000000 & words and phrases related to cruises and associated experiences \\\\\n",
      "res & 2 & math & programming & 15409 & 1.000000 & terms related to momentum and wave functions in physics \\\\\n",
      "res & 2 & math & programming & 15056 & 1.000000 & negative numbers and their contexts related to significant events or issues \\\\\n"
     ]
    }
   ],
   "source": [
    "import pandas as pd\n",
    "\n",
    "# load and drop the Unnamed:0 column\n",
    "df = df.loc[:, ~df.columns.str.contains(\"^Unnamed\")]\n",
    "\n",
    "# convert to LaTeX and strip off the \\begin{tabular}/\\toprule/... wrapper\n",
    "latex = df.to_latex(index=False, escape=False, column_format=\"lllllll\")\n",
    "lines = latex.splitlines()\n",
    "\n",
    "# the data rows live between the header (line 3) and the footer (last 2 lines)\n",
    "body = lines[3:-2]\n",
    "\n",
    "# print each row, adding a \\\\ at the end\n",
    "for row in body:\n",
    "    print(row.rstrip() + \"\")\n"
   ]
  },
  {
   "cell_type": "code",
   "execution_count": null,
   "id": "8b5cbe2a-cf65-4935-858c-196354877cf9",
   "metadata": {},
   "outputs": [],
   "source": []
  }
 ],
 "metadata": {
  "kernelspec": {
   "display_name": "Python 3 (ipykernel)",
   "language": "python",
   "name": "python3"
  },
  "language_info": {
   "codemirror_mode": {
    "name": "ipython",
    "version": 3
   },
   "file_extension": ".py",
   "mimetype": "text/x-python",
   "name": "python",
   "nbconvert_exporter": "python",
   "pygments_lexer": "ipython3",
   "version": "3.11.6"
  }
 },
 "nbformat": 4,
 "nbformat_minor": 5
}
